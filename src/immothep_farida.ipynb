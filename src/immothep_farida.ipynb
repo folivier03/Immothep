{
 "metadata": {
  "language_info": {
   "codemirror_mode": {
    "name": "ipython",
    "version": 3
   },
   "file_extension": ".py",
   "mimetype": "text/x-python",
   "name": "python",
   "nbconvert_exporter": "python",
   "pygments_lexer": "ipython3",
   "version": "3.7.9-final"
  },
  "orig_nbformat": 2,
  "kernelspec": {
   "name": "Python 3.7.9 64-bit ('DataScience': conda)",
   "display_name": "Python 3.7.9 64-bit ('DataScience': conda)",
   "metadata": {
    "interpreter": {
     "hash": "cbddb0c922a82b6502eade9a19b10d1eba90819ab9efda7b5a1dc2be117c2b63"
    }
   }
  }
 },
 "nbformat": 4,
 "nbformat_minor": 2,
 "cells": [
  {
   "source": [
    "## Module d'estimation de biens immobilier\n",
    "## Estimation des appartements et des maisons"
   ],
   "cell_type": "markdown",
   "metadata": {}
  },
  {
   "source": [
    "## 1. Libraries import"
   ],
   "cell_type": "markdown",
   "metadata": {}
  },
  {
   "cell_type": "code",
   "execution_count": null,
   "metadata": {},
   "outputs": [],
   "source": [
    "import pandas as pd\n",
    "import numpy as np\n",
    "# import matplotlib.pyplot as plt\n",
    "# import seaborn as sns\n",
    "from sklearn.linear_model import LinearRegression\n",
    "from sklearn.metrics import mean_squared_error\n",
    "from sklearn.model_selection import train_test_split\n",
    "from sklearn import preprocessing\n",
    "from sklearn.pipeline import make_pipeline\n",
    "from sklearn.ensemble import RandomForestRegressor\n",
    "import pickle\n",
    "import requests\n"
   ]
  },
  {
   "source": [
    "## 1. downloading files from data.gouv.fr"
   ],
   "cell_type": "markdown",
   "metadata": {}
  },
  {
   "cell_type": "code",
   "execution_count": null,
   "metadata": {},
   "outputs": [],
   "source": [
    "url_file =\"https://www.data.gouv.fr/fr/datasets/r/3004168d-bec4-44d9-a781-ef16f41856a2\"\n",
    "gf.download(url_file)\n"
   ]
  },
  {
   "source": [
    "## 2. Loading Dataset file"
   ],
   "cell_type": "markdown",
   "metadata": {}
  },
  {
   "cell_type": "code",
   "execution_count": null,
   "metadata": {},
   "outputs": [],
   "source": [
    "# read file \n",
    "df_val_fonc = pd.read_csv('../data/IN/valeursfoncieres-2019.txt', sep = '|',  decimal = ',' , encoding='UTF-8')\n",
    "\n"
   ]
  },
  {
   "source": [
    "## 3. Cleaning and Filtring Dataset"
   ],
   "cell_type": "markdown",
   "metadata": {}
  },
  {
   "cell_type": "code",
   "execution_count": null,
   "metadata": {},
   "outputs": [],
   "source": [
    "#print(df_val_fonc.head())\n",
    "#drop empty columns \n",
    "df_val_fonc = df_val_fonc.drop(['Code service CH', 'Reference document', '1 Articles CGI', '2 Articles CGI', '3 Articles CGI', '4 Articles CGI', '5 Articles CGI', 'No disposition','Identifiant local'], axis = 1)\n",
    "#print(df_val_fonc.head())\n",
    "#faire un groupby\n",
    "df_val_fonc = df_val_fonc.groupby(['Date mutation', 'Nature mutation','Valeur fonciere','No voie','Voie','Code postal','Commune','Code departement','No plan','Type local','Code type local', 'Surface terrain'])['Surface reelle bati','Nombre pieces principales'].sum().reset_index()\n",
    "#\n",
    "df_val_fonc = df_val_fonc.drop(['Date mutation', 'No voie','No plan','Code type local'], axis = 1)\n",
    "# # lines  filter\n",
    "df_val_fonc = df_val_fonc.dropna()\n",
    "df_val_fonc.drop_duplicates(inplace = True)\n"
   ]
  },
  {
   "source": [
    "## 4. Filtering on \"Type local\" = Apartments"
   ],
   "cell_type": "markdown",
   "metadata": {}
  },
  {
   "cell_type": "code",
   "execution_count": null,
   "metadata": {},
   "outputs": [],
   "source": [
    "# récupérere des appartements\n",
    "df_val_fonc_App = df_val_fonc.loc[(df_val_fonc['Nature mutation']==\"Vente\") & (df_val_fonc['Type local']==\"Appartement\"),:]\n",
    "df_val_fonc_App = df_val_fonc_App.drop(['Nature mutation'], axis = 1)\n",
    "\n",
    "# filtrer par rapport à la 'Valeur fonciere' et la 'Surface reelle bati'\n",
    "df_val_fonc_App.drop(df_val_fonc_App[(df_val_fonc_App['Valeur fonciere']< 7000.00)|(df_val_fonc['Valeur fonciere'].isna())].index, inplace = True)\n",
    "df_val_fonc_App.drop(df_val_fonc_App[df_val_fonc_App['Valeur fonciere']> 20000000.00].index, inplace = True)\n",
    "#\n",
    "df_val_fonc_App.drop(df_val_fonc_App[df_val_fonc_App['Surface reelle bati']< 9.00].index, inplace = True)\n"
   ]
  },
  {
   "source": [
    "## 4. Filtering on \"Type local\" = Houses"
   ],
   "cell_type": "markdown",
   "metadata": {}
  },
  {
   "cell_type": "code",
   "execution_count": null,
   "metadata": {},
   "outputs": [],
   "source": [
    "# récupérer des maisons\n",
    "df_val_fonc_maison = df_val_fonc.loc[(df_val_fonc['Nature mutation']==\"Vente\") & (df_val_fonc['Type local']==\"Maison\"),:]\n",
    "df_val_fonc_maison = df_val_fonc_maison.drop(['Nature mutation'], axis = 1)\n",
    "\n",
    "# filtrer par rapport à la 'Valeur fonciere' et la 'Surface reelle bati'\n",
    "df_val_fonc_maison.drop(df_val_fonc_maison[(df_val_fonc_maison['Valeur fonciere']< 90000.00)|(df_val_fonc['Valeur fonciere'].isna())].index, inplace = True)\n",
    "df_val_fonc_maison.drop(df_val_fonc_maison[df_val_fonc_maison['Valeur fonciere']> 15000000.00].index, inplace = True)\n",
    "#\n",
    "df_val_fonc_maison.drop(df_val_fonc_maison[df_val_fonc_maison['Surface reelle bati']< 20.00].index, inplace = True)\n",
    "df_val_fonc_maison.drop(df_val_fonc_maison[df_val_fonc_maison['Nombre pieces principales']> 10].index, inplace = True)"
   ]
  },
  {
   "cell_type": "code",
   "execution_count": null,
   "metadata": {},
   "outputs": [],
   "source": [
    "\n",
    "#\n",
    "plt.scatter(df_val_fonc_App[\"Surface reelle bati\"], df_val_fonc_App[\"Valeur fonciere\"])\n",
    "plt.xlabel(\"Surface batie\")\n",
    "plt.ylabel(\"Valeur fonciere\")\n",
    "plt.show()"
   ]
  },
  {
   "cell_type": "code",
   "execution_count": null,
   "metadata": {},
   "outputs": [],
   "source": [
    "matrice_corr = df_val_fonc_App.corr().round(3)\n",
    "sns.heatmap(data = matrice_corr, annot=True)"
   ]
  },
  {
   "source": [
    "## Linear regression model"
   ],
   "cell_type": "markdown",
   "metadata": {}
  },
  {
   "source": [
    "columns = df_val_fonc_App.columns.tolist()\n",
    "# Filtrer les colonnes pour supprimer celles que nous ne voulons pas.\n",
    "columns = [c for c in columns if c not in [\"Valeur fonciere\",\"Voie\", \"Commune\",\"Type local\", \"Code departement\"]]\n",
    "#stocker la variable à prédire\n",
    "target = \"Valeur fonciere\"\n",
    "# générer l'ensemble de données pour l'apprentissage, définir un état aléatoire pour reproduire les résultats\n",
    "train = df_val_fonc_App.sample(frac=0.8, random_state=1)\n",
    "\n",
    "# selectionner un autre ensemble qui n'est pas dans l'apprentissage\n",
    "test = df_val_fonc_App.loc[~df_val_fonc_App.index.isin(train.index)]\n",
    "# Initialiser la classe du modèle\n",
    "lin_model = LinearRegression()\n",
    "# Ajuster le modèle aux données d'apprentissage (fit the model to the training data)\n",
    "lin_model.fit(train[columns], train[target])\n",
    "#lin_model.fit(test[columns], test[target])\n",
    "# générer les predictions\n",
    "lin_predictions = lin_model.predict(test[columns]).round(3)\n",
    "#print(\"Predictions:\", lin_predictions)\n",
    "print('Values test : ', test[target][:5])\n",
    "print('Predict Values predict : ', lin_predictions[:5])\n",
    "# calcul d'erreur entre les prédictions et les valeurs fournies\n",
    "lin_mse = mean_squared_error(lin_predictions,test[target]).round(3)\n",
    "print(\"Computed error:\", lin_mse)\n",
    "#lin_model.score(test[columns],train[target])\n",
    "lin_model.score(test[columns], test[target])"
   ],
   "cell_type": "code",
   "metadata": {},
   "execution_count": null,
   "outputs": []
  },
  {
   "source": [
    "### Linear Regression model is not adapted to our dataset beacause there is correlation betwween features (Surafce reelle bati & nombre de piece principale).  \n",
    "   . So we used another model wich regression we shon va essayer l'algorithme random forest car c'est un algorithme qui peut prendre en compte les non    \n",
    "       linéarités dans les données."
   ],
   "cell_type": "markdown",
   "metadata": {}
  },
  {
   "source": [
    "## 5. Selecting Features and spliting the dataset"
   ],
   "cell_type": "markdown",
   "metadata": {}
  },
  {
   "cell_type": "code",
   "execution_count": null,
   "metadata": {},
   "outputs": [],
   "source": [
    "\n",
    "# Selecting Features\n",
    "x = df_val_fonc_App[['Code postal','Surface reelle bati','Nombre pieces principales', 'Surface terrain']]\n",
    "# Selecting Target \n",
    "y = df_val_fonc_App[['Valeur fonciere']]\n",
    "x_train, x_test, y_train, y_test = train_test_split(x, y, test_size=0.2, random_state=1, shuffle =True)\n",
    "#\n",
    "#np.isfinite(X_test).all()\n"
   ]
  },
  {
   "source": [
    "## 6. Fitting random Forest Regressor to the dataset"
   ],
   "cell_type": "markdown",
   "metadata": {}
  },
  {
   "cell_type": "code",
   "execution_count": null,
   "metadata": {},
   "outputs": [],
   "source": [
    "model_RF = RandomForestRegressor(n_estimators = 100, min_samples_leaf = 4, random_state = 1)\n",
    "model_RF.fit(x_train, y_train)\n",
    "model_RF.fit(x_test, y_test)\n",
    "#\n",
    "lin_predictions_FR = model_RF.predict(x_test).round(3)\n",
    "#\n",
    "print('Values test : ', y_test[:5])\n",
    "print('Predict Values predict : ', lin_predictions_FR[:5])\n",
    "#lin_mse = mean_squared_error(lin_predictions, y)\n",
    "model_RF.score(x_test, y_test)"
   ]
  },
  {
   "source": [
    "## 7. Model Serialization with Pickle\n"
   ],
   "cell_type": "markdown",
   "metadata": {}
  },
  {
   "cell_type": "code",
   "execution_count": null,
   "metadata": {},
   "outputs": [],
   "source": [
    "with open('model_rfg_apartment_pickle','wb') as f:\n",
    "    pickle.dump(model_RF, f)\n"
   ]
  },
  {
   "source": [
    "##  Random Forest Regressor model application on houses Dataset"
   ],
   "cell_type": "markdown",
   "metadata": {}
  },
  {
   "cell_type": "code",
   "execution_count": null,
   "metadata": {},
   "outputs": [],
   "source": [
    "plt.scatter(df_val_fonc_maison[\"Surface reelle bati\"], df_val_fonc_maison[\"Valeur fonciere\"])\n",
    "plt.xlabel(\"Surface batie\")\n",
    "plt.ylabel(\"Valeur fonciere\")\n",
    "plt.show()"
   ]
  },
  {
   "cell_type": "code",
   "execution_count": null,
   "metadata": {},
   "outputs": [],
   "source": [
    "matrice_corr = df_val_fonc_maison.corr().round(3)\n",
    "sns.heatmap(data = matrice_corr, annot=True)"
   ]
  },
  {
   "source": [
    "## .Selecting Features and spliting the dataset"
   ],
   "cell_type": "markdown",
   "metadata": {}
  },
  {
   "cell_type": "code",
   "execution_count": null,
   "metadata": {},
   "outputs": [],
   "source": [
    "# Selecting Features\n",
    "X = df_val_fonc_maison[['Code postal','Surface reelle bati','Nombre pieces principales', 'Surface terrain']]\n",
    "# Selecting Target \n",
    "Y = df_val_fonc_maison[['Valeur fonciere']]\n",
    "X_train, X_test, Y_train, Y_test = train_test_split(X, Y, test_size=0.2, random_state=1, shuffle =True)\n",
    "#\n",
    "#np.isfinite(X_test).all()\n",
    "Maison_RF = RandomForestRegressor(n_estimators = 100, min_samples_leaf = 4, random_state = 1)\n",
    "Maison_RF.fit(X_train, Y_train)\n",
    "Maison_RF.fit(X_test, Y_test)\n",
    "#\n",
    "Maison_predictions_RF = Maison_RF.predict(X_test).round(3)\n",
    "#\n",
    "print('Values test : ', Y_test[:5])\n",
    "print('Predict Values predict : ', Maison_predictions_RF[:5])\n",
    "#lin_mse = mean_squared_error(lin_predictions, y)\n",
    "Maison_RF.score(X_test, Y_test)"
   ]
  },
  {
   "source": [
    "## 7. Model Serialization with Pickle"
   ],
   "cell_type": "markdown",
   "metadata": {}
  },
  {
   "cell_type": "code",
   "execution_count": null,
   "metadata": {},
   "outputs": [],
   "source": [
    "with open('model_rfg_house_pickle','wb') as f1:\n",
    "    pickle.dump(Maison_RF, f1)"
   ]
  },
  {
   "source": [
    "## Predecting Value With FatsAPI"
   ],
   "cell_type": "markdown",
   "metadata": {}
  },
  {
   "cell_type": "code",
   "execution_count": null,
   "metadata": {},
   "outputs": [],
   "source": [
    "code_postal = 75010\n",
    "surafce_reelle = 42\n",
    "nb_piece = 2\n",
    "surface_terrain = 100\n",
    "# maision = 2, appartement =1\n",
    "type_local = 1\n",
    "\n",
    "req= {\"surafce_reelle\":80, \"nb_piece\": 4, \"surface_terrain\": 80, \"code_postal\": 75000, \"type_local\":1}\n",
    "\n",
    "response = requests.get(\"http://localhost:8000/api/estimate/\", params=req)\n",
    "print(response.json())\n",
    "\n"
   ]
  },
  {
   "cell_type": "code",
   "execution_count": null,
   "metadata": {},
   "outputs": [],
   "source": []
  }
 ]
}